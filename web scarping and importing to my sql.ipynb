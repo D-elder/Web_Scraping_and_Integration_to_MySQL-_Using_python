{
 "cells": [
  {
   "cell_type": "markdown",
   "id": "fad82d88",
   "metadata": {},
   "source": [
    "Importing libraries for scrapping web data"
   ]
  },
  {
   "cell_type": "code",
   "execution_count": null,
   "id": "bc9c49b8",
   "metadata": {},
   "outputs": [],
   "source": [
    "#importing libraries\n",
    "import bs4 \n",
    "from bs4 import BeautifulSoup\n",
    "import requests"
   ]
  },
  {
   "cell_type": "markdown",
   "id": "fc898f83",
   "metadata": {},
   "source": [
    "reading the url"
   ]
  },
  {
   "cell_type": "code",
   "execution_count": 5,
   "id": "9dc7dbfe",
   "metadata": {},
   "outputs": [],
   "source": [
    "# reading url\n",
    "url = 'https://en.wikipedia.org/wiki/List_of_largest_manufacturing_companies_by_revenue' #reading url\n",
    "response = requests.get(url)\n",
    "soup = BeautifulSoup(response.text, 'html.parser')\n"
   ]
  },
  {
   "cell_type": "code",
   "execution_count": 6,
   "id": "ba348f58",
   "metadata": {},
   "outputs": [],
   "source": [
    "## #we grab the body of the table and store in the varaible table\n",
    "\n",
    "table = soup.find('table', {'class': 'wikitable sortable plainrowheads'}).tbody"
   ]
  },
  {
   "cell_type": "code",
   "execution_count": 7,
   "id": "6b2ee77a",
   "metadata": {},
   "outputs": [
    {
     "name": "stdout",
     "output_type": "stream",
     "text": [
      "['No.', 'Company', 'Industry', 'Revenue (by US$ billion)', 'Headquarters']\n"
     ]
    }
   ],
   "source": [
    "# reading the columns of the scraped data set\n",
    "rows = table.find_all('tr')\n",
    "\n",
    "columns = [v.text.replace('\\n', '') for v in rows[0].find_all('th')] # cleaning foreign elements\n",
    "\n",
    "print(columns)"
   ]
  },
  {
   "cell_type": "code",
   "execution_count": 8,
   "id": "fe8aa820",
   "metadata": {},
   "outputs": [
    {
     "name": "stdout",
     "output_type": "stream",
     "text": [
      "['1', 'Apple', 'Electronics, telecommunications equipment', '274.515', 'United States']\n",
      "['2', 'Toyota Group', 'Engineering, various', '256.721', 'Japan']\n",
      "['3', 'Volkswagen Group', 'Automotive', '253.965', 'Germany']\n",
      "['4', 'Samsung Electronics', 'Electronics, various', '200.734', 'South Korea']\n",
      "['5', 'Foxconn', 'Electronics', '181.945', 'Taiwan']\n",
      "['6', 'Mercedes-Benz Group', 'Automotive', '175.827', 'Germany']\n",
      "['7', 'The Miller Foundation', 'Pharmaceuticals', '152.922', 'United States']\n",
      "['8', 'China Railway and Engineering Group', 'Engineering', '141.383', 'China']\n",
      "['9', 'Huawei', 'Telecommunications equipment, Electronics', '129.183', 'China']\n",
      "['10', 'Ford', 'Automotive', '127.144', 'United States']\n",
      "['11', 'Honda', 'Automotive', '124.240', 'Japan']\n",
      "['12', 'General Motors', 'Automotive', '122.485', 'United States']\n",
      "['13', 'Mitsubishi', 'Engineering, various', '121.542', 'Japan']\n",
      "['14', 'BMW', 'Automotive', '112.794', 'Germany']\n",
      "['15', 'SAIC Motor', 'Automotive', '107.555', 'China']\n",
      "['16', 'China Minmetals', 'Metals', '102.014', 'China']\n",
      "['17', 'FAW Group', 'Automotive', '101.075', 'China']\n",
      "['18', 'Hengli Group', 'Textiles', '100.773', 'China']\n",
      "['19', 'China Baowu Steel Group', 'Steel', '97.643', 'China']\n",
      "['20', 'Dell', 'Electronics', '94.224', 'United States']\n",
      "['21', 'Nestle', 'Food & Beverages', '89.852', 'Switzerland/United States']\n",
      "['22', 'Hyundai Motor Company', 'Automotive', '88.155', 'South Korea']\n",
      "['23', 'Dongfeng Motor Group', 'Automotive', '86.85', 'China']\n",
      "['24', 'Sony', 'Electronics', '84.893', 'Japan']\n",
      "['25', 'Johnson & Johnson', 'Personal care products', '82.344', 'United States']\n",
      "['26', 'Hitachi', 'Engineering, various', '82.334', 'Japan']\n",
      "['27', 'Bosch', 'Engineering, various', '81.463', 'Germany']\n",
      "['28', 'General Electric', 'Engineering, various', '79.619', 'United States']\n",
      "['29', 'Intel', 'Electronics', '77.867', 'United States']\n",
      "['30', 'Sinopharm', 'Pharmaceuticals', '77.278', 'China']\n",
      "['31', 'Nissan', 'Automotive', '74.169', 'Japan']\n",
      "['32', 'Enel', 'Renewable energy', '74.047', 'Italy']\n",
      "['33', 'IBM', 'Engineering, various', '73.620', 'United States']\n",
      "['34', 'Beijing Automotive Group', 'Automotive', '72.147', 'China']\n",
      "['35', 'Procter & Gamble', 'Consumer goods', '70.950', 'United States']\n",
      "['36', 'PepsiCo', 'Food & Beverages', '70.387', 'United States']\n",
      "['37', 'BASF', 'Chemicals', '69.464', 'Germany']\n",
      "['38', 'Aviation Industry Corporation of China', 'Aerospace & Defense', '66.964', 'China']\n",
      "['39', 'Lockheed Martin', 'Aerospace & Defense', '65.398', 'United States']\n",
      "['40', 'Hoffmann-La Roche', 'Pharmaceuticals', '64.285', 'Switzerland']\n",
      "['41', 'Siemens', 'Engineering, various', '63.935', 'Germany']\n",
      "['42', 'Sinochem', 'Chemicals', '63.544', 'China']\n",
      "['43', 'Panasonic', 'Engineering, various', '63.191', 'Japan']\n",
      "['44', 'Lenovo', 'Electronics', '60.742', 'China/United States']\n",
      "['45', 'ChemChina', 'Chemicals', '60.491', 'China']\n",
      "['46', 'Boeing', 'Aerospace & Defense', '58.158', 'United States']\n",
      "['47', 'Unilever', 'Consumer goods', '57.797', 'United Kingdom/United States']\n",
      "['48', 'Airbus', 'Aerospace & Defense', '56.872', 'France']\n",
      "['49', 'Hewlett-Packard', 'Electronics', '56.639', 'United States']\n",
      "['50', 'Raytheon Technologies', 'Engineering, various', '56.587', 'United States']\n"
     ]
    }
   ],
   "source": [
    "# Getting the body of the tables as values\n",
    "\n",
    "for i in range(1, len(rows)):\n",
    "  tds = rows[i].find_all('td')\n",
    "  if len(tds) == 4:\n",
    "    values = [tds[0].text, tds[1].text,'',tds[2].text, tds[3].text.replace('\\n', ''.replace('\\xa0', ''))]\n",
    "  else:\n",
    "    values = [td.text.replace('\\n', '').replace('\\xa0', '') for td in tds]\n",
    "    print(values)"
   ]
  },
  {
   "cell_type": "code",
   "execution_count": 10,
   "id": "bc529630",
   "metadata": {},
   "outputs": [],
   "source": [
    "# converting columns to a dataframe\n",
    "import pandas as pd\n",
    "df = pd.DataFrame(columns=columns)"
   ]
  },
  {
   "cell_type": "code",
   "execution_count": 11,
   "id": "34b6e5d4",
   "metadata": {},
   "outputs": [],
   "source": [
    "# converting table body(rows) to dataFrame\n",
    "df2 = pd.DataFrame(data=values)\n"
   ]
  },
  {
   "cell_type": "code",
   "execution_count": 12,
   "id": "6d57dbc6",
   "metadata": {},
   "outputs": [],
   "source": [
    "# joining scraped df and df2\n",
    "\n",
    "data = df.append(df2, ignore_index=True)"
   ]
  },
  {
   "cell_type": "code",
   "execution_count": 22,
   "id": "3b7f03ba",
   "metadata": {},
   "outputs": [
    {
     "name": "stdout",
     "output_type": "stream",
     "text": [
      "Collecting mysql-connector-python\n",
      "  Downloading mysql_connector_python-8.0.30-cp310-cp310-win_amd64.whl (7.9 MB)\n",
      "     ---------------------------------------- 7.9/7.9 MB 1.9 MB/s eta 0:00:00\n",
      "Collecting protobuf<=3.20.1,>=3.11.0\n",
      "  Downloading protobuf-3.20.1-cp310-cp310-win_amd64.whl (903 kB)\n",
      "     -------------------------------------- 903.8/903.8 kB 1.6 MB/s eta 0:00:00\n",
      "Installing collected packages: protobuf, mysql-connector-python\n",
      "Successfully installed mysql-connector-python-8.0.30 protobuf-3.20.1\n",
      "Note: you may need to restart the kernel to use updated packages.\n"
     ]
    }
   ],
   "source": [
    "#installing pythnon-mysql link package\n",
    "pip install mysql-connector-python"
   ]
  },
  {
   "cell_type": "code",
   "execution_count": 23,
   "id": "a73e6091",
   "metadata": {},
   "outputs": [
    {
     "name": "stdout",
     "output_type": "stream",
     "text": [
      "Database is created\n"
     ]
    }
   ],
   "source": [
    "# importing Mysql connector and creating database\n",
    "import mysql.connector as msql\n",
    "from mysql.connector import Error\n",
    "try:\n",
    "    conn = msql.connect(host='localhost', user='root',  \n",
    "                        password='????????')#give ur username, password\n",
    "    if conn.is_connected():\n",
    "        cursor = conn.cursor()\n",
    "        cursor.execute(\"CREATE DATABASE revenue\")\n",
    "        print(\"Database is created\")\n",
    "except Error as e:\n",
    "    print(\"Error while connecting to MySQL\", e)"
   ]
  },
  {
   "cell_type": "code",
   "execution_count": 30,
   "id": "83dfc80f",
   "metadata": {},
   "outputs": [
    {
     "data": {
      "text/html": [
       "<div>\n",
       "<style scoped>\n",
       "    .dataframe tbody tr th:only-of-type {\n",
       "        vertical-align: middle;\n",
       "    }\n",
       "\n",
       "    .dataframe tbody tr th {\n",
       "        vertical-align: top;\n",
       "    }\n",
       "\n",
       "    .dataframe thead th {\n",
       "        text-align: right;\n",
       "    }\n",
       "</style>\n",
       "<table border=\"1\" class=\"dataframe\">\n",
       "  <thead>\n",
       "    <tr style=\"text-align: right;\">\n",
       "      <th></th>\n",
       "      <th>No.</th>\n",
       "      <th>Company</th>\n",
       "      <th>Industry</th>\n",
       "      <th>Revenue (by US$ billion)</th>\n",
       "      <th>Headquarters</th>\n",
       "    </tr>\n",
       "  </thead>\n",
       "  <tbody>\n",
       "    <tr>\n",
       "      <th>0</th>\n",
       "      <td>1</td>\n",
       "      <td>Apple</td>\n",
       "      <td>Electronics, telecommunications equipment</td>\n",
       "      <td>274.52</td>\n",
       "      <td>United States</td>\n",
       "    </tr>\n",
       "    <tr>\n",
       "      <th>1</th>\n",
       "      <td>2</td>\n",
       "      <td>Toyota Group</td>\n",
       "      <td>Engineering, various</td>\n",
       "      <td>256.72</td>\n",
       "      <td>Japan</td>\n",
       "    </tr>\n",
       "    <tr>\n",
       "      <th>2</th>\n",
       "      <td>3</td>\n",
       "      <td>Volkswagen Group</td>\n",
       "      <td>Automotive</td>\n",
       "      <td>253.97</td>\n",
       "      <td>Germany</td>\n",
       "    </tr>\n",
       "    <tr>\n",
       "      <th>3</th>\n",
       "      <td>4</td>\n",
       "      <td>Samsung Electronics</td>\n",
       "      <td>Electronics, various</td>\n",
       "      <td>200.73</td>\n",
       "      <td>South Korea</td>\n",
       "    </tr>\n",
       "    <tr>\n",
       "      <th>4</th>\n",
       "      <td>5</td>\n",
       "      <td>Foxconn</td>\n",
       "      <td>Electronics</td>\n",
       "      <td>181.95</td>\n",
       "      <td>Taiwan</td>\n",
       "    </tr>\n",
       "  </tbody>\n",
       "</table>\n",
       "</div>"
      ],
      "text/plain": [
       "   No.              Company                                   Industry  \\\n",
       "0    1                Apple  Electronics, telecommunications equipment   \n",
       "1    2         Toyota Group                       Engineering, various   \n",
       "2    3     Volkswagen Group                                 Automotive   \n",
       "3    4  Samsung Electronics                       Electronics, various   \n",
       "4    5              Foxconn                                Electronics   \n",
       "\n",
       "   Revenue (by US$ billion)    Headquarters  \n",
       "0                    274.52   United States  \n",
       "1                    256.72           Japan  \n",
       "2                    253.97         Germany  \n",
       "3                    200.73     South Korea  \n",
       "4                    181.95          Taiwan  "
      ]
     },
     "execution_count": 30,
     "metadata": {},
     "output_type": "execute_result"
    }
   ],
   "source": [
    "data.head()"
   ]
  },
  {
   "cell_type": "code",
   "execution_count": 41,
   "id": "d61bd08a",
   "metadata": {},
   "outputs": [
    {
     "name": "stdout",
     "output_type": "stream",
     "text": [
      "You're connected to database:  ('revenue',)\n",
      "Creating table....\n",
      "Table is created....\n",
      "Record inserted\n",
      "Record inserted\n",
      "Record inserted\n",
      "Record inserted\n",
      "Record inserted\n",
      "Record inserted\n",
      "Record inserted\n",
      "Record inserted\n",
      "Record inserted\n",
      "Record inserted\n",
      "Record inserted\n",
      "Record inserted\n",
      "Record inserted\n",
      "Record inserted\n",
      "Record inserted\n",
      "Record inserted\n",
      "Record inserted\n",
      "Record inserted\n",
      "Record inserted\n",
      "Record inserted\n",
      "Record inserted\n",
      "Record inserted\n",
      "Record inserted\n",
      "Record inserted\n",
      "Record inserted\n",
      "Record inserted\n",
      "Record inserted\n",
      "Record inserted\n",
      "Record inserted\n",
      "Record inserted\n",
      "Record inserted\n",
      "Record inserted\n",
      "Record inserted\n",
      "Record inserted\n",
      "Record inserted\n",
      "Record inserted\n",
      "Record inserted\n",
      "Record inserted\n",
      "Record inserted\n",
      "Record inserted\n",
      "Record inserted\n",
      "Record inserted\n",
      "Record inserted\n",
      "Record inserted\n",
      "Record inserted\n",
      "Record inserted\n",
      "Record inserted\n",
      "Record inserted\n",
      "Record inserted\n",
      "Record inserted\n"
     ]
    }
   ],
   "source": [
    "#creating table on thye created database\n",
    "\n",
    "import mysql.connector as msql\n",
    "from mysql.connector import Error\n",
    "try:\n",
    "    conn = msql.connect(host='localhost', database='revenue', user='root', password='?????????')\n",
    "    if conn.is_connected():\n",
    "        cursor = conn.cursor()\n",
    "        cursor.execute(\"select database();\")\n",
    "        record = cursor.fetchone()\n",
    "        print(\"You're connected to database: \", record)\n",
    "        cursor.execute('DROP TABLE IF EXISTS employee_data;')\n",
    "        print('Creating table....')\n",
    " # in the below line please pass the create table statement which you want #to create\n",
    "        cursor.execute(\"CREATE TABLE revenue_data3(No varchar(255),Company varchar(255),Industry varchar(255),Revenue int,Headquarters varchar(255))\")\n",
    "        print(\"Table is created....\")\n",
    "        #loop through the data frame\n",
    "        for i,row in data.iterrows():\n",
    "            #here %S means string values \n",
    "            sql = \"INSERT INTO revenue.revenue_data VALUES (%s,%s,%s,%s,%s)\"\n",
    "            cursor.execute(sql, tuple(row))\n",
    "            print(\"Record inserted\")\n",
    "            # the connection is not auto committed by default, so we must commit to save our changes\n",
    "            conn.commit()\n",
    "except Error as e:\n",
    "            print(\"Error while connecting to MySQL\", e)\n"
   ]
  },
  {
   "cell_type": "code",
   "execution_count": null,
   "id": "c1476f27",
   "metadata": {},
   "outputs": [],
   "source": []
  }
 ],
 "metadata": {
  "kernelspec": {
   "display_name": "Python 3 (ipykernel)",
   "language": "python",
   "name": "python3"
  },
  "language_info": {
   "codemirror_mode": {
    "name": "ipython",
    "version": 3
   },
   "file_extension": ".py",
   "mimetype": "text/x-python",
   "name": "python",
   "nbconvert_exporter": "python",
   "pygments_lexer": "ipython3",
   "version": "3.9.15"
  }
 },
 "nbformat": 4,
 "nbformat_minor": 5
}
